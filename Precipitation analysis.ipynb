{
    "cells": [
        {
            "cell_type": "code",
            "execution_count": 3,
            "metadata": {},
            "outputs": [
                {
                    "name": "stdout",
                    "output_type": "stream",
                    "text": "+--------------------+--------+--------------------+--------+--------------+------------+-----------------+--------------------------+------------------+------------+\n|ISO Week of the Year|ISO Year|         Event Label|Sessions|       Revenue|Transactions| Avg. Order Value|E-commerce Conversion Rate| Per Session Value|Total Events|\n+--------------------+--------+--------------------+--------+--------------+------------+-----------------+--------------------------+------------------+------------+\n|                   1|    2018|   AvaDay: LGW - JFK|    9478|3249958.911331|         445|7303.278452429214|      0.046950833509179155|342.89501069117955|       10871|\n|                   1|    2019|AvaDay: LGW - NYCALL|    9017| 2358322.01982|         303| 7783.24098950495|      0.033603193966951314| 261.5417566618609|        9733|\n|                   2|    2018|   AvaDay: LGW - JFK|    7815|3051813.268012|         405|7535.341402498765|       0.05182341650671785|  390.507136022009|        8909|\n|                   7|    2018|AvaDay: LGW - NYCALL|    7016|2431784.382421|         324|7505.507353151234|      0.046180159635119726|346.60552771108894|        7694|\n|                   3|    2018|   AvaDay: LGW - JFK|    6804|3535864.425863|         436|8109.780793263762|       0.06407995296884186| 519.6743718199589|        7750|\n+--------------------+--------+--------------------+--------+--------------+------------+-----------------+--------------------------+------------------+------------+\nonly showing top 5 rows\n\n"
                },
                {
                    "data": {
                        "text/plain": "configurationName = os_8d08f2407c6e493bb83eab3d90453973_configs\ncos = com.ibm.ibmos2spark.CloudObjectStorage@b1cea808\nspark = org.apache.spark.sql.SparkSession@c405d5ff\ndfData1 = [ISO Week of the Year: int, ISO Year: int ... 8 more fields]\n"
                    },
                    "metadata": {},
                    "output_type": "display_data"
                },
                {
                    "data": {
                        "text/plain": "getCredentials: ()scala.collection.mutable.HashMap[String,String]\n"
                    },
                    "metadata": {},
                    "output_type": "display_data"
                },
                {
                    "data": {
                        "text/plain": "[ISO Week of the Year: int, ISO Year: int ... 8 more fields]"
                    },
                    "execution_count": 3,
                    "metadata": {},
                    "output_type": "execute_result"
                }
            ],
            "source": "// The code was removed by Watson Studio for sharing."
        },
        {
            "cell_type": "code",
            "execution_count": null,
            "metadata": {},
            "outputs": [],
            "source": "\nval dfData2 = spark.\n    read.format(\"org.apache.spark.sql.execution.datasources.csv.CSVFileFormat\").\n    option(\"header\", \"true\").\n    option(\"inferSchema\", \"true\").\n    load(cos.url(\"jupyternotebooks-donotdelete-pr-lstvm26p3sbnqx\", \"Search EV LH LGW-US.csv\"))\ndfData2.show(5)\n"
        }
    ],
    "metadata": {
        "kernelspec": {
            "display_name": "Scala 2.11 with Spark",
            "language": "scala",
            "name": "scala"
        },
        "language_info": {
            "codemirror_mode": "text/x-scala",
            "file_extension": ".scala",
            "mimetype": "text/x-scala",
            "name": "scala",
            "pygments_lexer": "scala",
            "version": "2.11.12"
        }
    },
    "nbformat": 4,
    "nbformat_minor": 1
}