{
    "cells": [
        {
            "cell_type": "markdown",
            "metadata": {},
            "source": "#Description\nThis notebook analyses and visualizes data"
        },
        {
            "cell_type": "code",
            "execution_count": 1,
            "metadata": {},
            "outputs": [
                {
                    "data": {
                        "text/html": "<div>\n<style scoped>\n    .dataframe tbody tr th:only-of-type {\n        vertical-align: middle;\n    }\n\n    .dataframe tbody tr th {\n        vertical-align: top;\n    }\n\n    .dataframe thead th {\n        text-align: right;\n    }\n</style>\n<table border=\"1\" class=\"dataframe\">\n  <thead>\n    <tr style=\"text-align: right;\">\n      <th></th>\n      <th>ISO Week of the Year</th>\n      <th>ISO Year</th>\n      <th>Event Label</th>\n      <th>Sessions</th>\n      <th>Revenue</th>\n      <th>Transactions</th>\n      <th>Avg. Order Value</th>\n      <th>E-commerce Conversion Rate</th>\n      <th>Per Session Value</th>\n      <th>Total Events</th>\n    </tr>\n  </thead>\n  <tbody>\n    <tr>\n      <th>0</th>\n      <td>1</td>\n      <td>2018</td>\n      <td>AvaDay: LGW - JFK</td>\n      <td>9478</td>\n      <td>3.249959e+06</td>\n      <td>445</td>\n      <td>7303.278452</td>\n      <td>0.046951</td>\n      <td>342.895011</td>\n      <td>10871</td>\n    </tr>\n    <tr>\n      <th>1</th>\n      <td>1</td>\n      <td>2019</td>\n      <td>AvaDay: LGW - NYCALL</td>\n      <td>9017</td>\n      <td>2.358322e+06</td>\n      <td>303</td>\n      <td>7783.240990</td>\n      <td>0.033603</td>\n      <td>261.541757</td>\n      <td>9733</td>\n    </tr>\n    <tr>\n      <th>2</th>\n      <td>2</td>\n      <td>2018</td>\n      <td>AvaDay: LGW - JFK</td>\n      <td>7815</td>\n      <td>3.051813e+06</td>\n      <td>405</td>\n      <td>7535.341402</td>\n      <td>0.051823</td>\n      <td>390.507136</td>\n      <td>8909</td>\n    </tr>\n    <tr>\n      <th>3</th>\n      <td>7</td>\n      <td>2018</td>\n      <td>AvaDay: LGW - NYCALL</td>\n      <td>7016</td>\n      <td>2.431784e+06</td>\n      <td>324</td>\n      <td>7505.507353</td>\n      <td>0.046180</td>\n      <td>346.605528</td>\n      <td>7694</td>\n    </tr>\n    <tr>\n      <th>4</th>\n      <td>3</td>\n      <td>2018</td>\n      <td>AvaDay: LGW - JFK</td>\n      <td>6804</td>\n      <td>3.535864e+06</td>\n      <td>436</td>\n      <td>8109.780793</td>\n      <td>0.064080</td>\n      <td>519.674372</td>\n      <td>7750</td>\n    </tr>\n  </tbody>\n</table>\n</div>",
                        "text/plain": "   ISO Week of the Year  ISO Year           Event Label  Sessions  \\\n0                     1      2018     AvaDay: LGW - JFK      9478   \n1                     1      2019  AvaDay: LGW - NYCALL      9017   \n2                     2      2018     AvaDay: LGW - JFK      7815   \n3                     7      2018  AvaDay: LGW - NYCALL      7016   \n4                     3      2018     AvaDay: LGW - JFK      6804   \n\n        Revenue  Transactions  Avg. Order Value  E-commerce Conversion Rate  \\\n0  3.249959e+06           445       7303.278452                    0.046951   \n1  2.358322e+06           303       7783.240990                    0.033603   \n2  3.051813e+06           405       7535.341402                    0.051823   \n3  2.431784e+06           324       7505.507353                    0.046180   \n4  3.535864e+06           436       8109.780793                    0.064080   \n\n   Per Session Value  Total Events  \n0         342.895011         10871  \n1         261.541757          9733  \n2         390.507136          8909  \n3         346.605528          7694  \n4         519.674372          7750  "
                    },
                    "execution_count": 1,
                    "metadata": {},
                    "output_type": "execute_result"
                }
            ],
            "source": "# The code was removed by Watson Studio for sharing."
        },
        {
            "cell_type": "code",
            "execution_count": null,
            "metadata": {},
            "outputs": [],
            "source": ""
        }
    ],
    "metadata": {
        "kernelspec": {
            "display_name": "Python 3.6",
            "language": "python",
            "name": "python3"
        },
        "language_info": {
            "codemirror_mode": {
                "name": "ipython",
                "version": 3
            },
            "file_extension": ".py",
            "mimetype": "text/x-python",
            "name": "python",
            "nbconvert_exporter": "python",
            "pygments_lexer": "ipython3",
            "version": "3.6.9"
        }
    },
    "nbformat": 4,
    "nbformat_minor": 1
}